{
 "cells": [
  {
   "cell_type": "code",
   "execution_count": null,
   "id": "a739e8b8",
   "metadata": {},
   "outputs": [],
   "source": [
    "import sqlite3\n",
    "con = sqlite3.connect('example.db')"
   ]
  },
  {
   "cell_type": "code",
   "execution_count": 2,
   "id": "9e4c1b5e",
   "metadata": {},
   "outputs": [],
   "source": [
    "from sqlalchemy.pool import StaticPool\n",
    "from sqlalchemy import create_engine\n",
    "engine = create_engine('sqlite:///mydb.db',\n",
    "                    poolclass=StaticPool)"
   ]
  },
  {
   "cell_type": "code",
   "execution_count": null,
   "id": "ad83836b",
   "metadata": {},
   "outputs": [],
   "source": [
    "engine"
   ]
  }
 ],
 "metadata": {
  "kernelspec": {
   "display_name": "Python 3",
   "language": "python",
   "name": "python3"
  },
  "language_info": {
   "codemirror_mode": {
    "name": "ipython",
    "version": 3
   },
   "file_extension": ".py",
   "mimetype": "text/x-python",
   "name": "python",
   "nbconvert_exporter": "python",
   "pygments_lexer": "ipython3",
   "version": "3.7.10"
  }
 },
 "nbformat": 4,
 "nbformat_minor": 5
}
